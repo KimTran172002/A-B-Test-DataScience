{
 "cells": [
  {
   "cell_type": "code",
   "execution_count": 37,
   "id": "7dc35dcc",
   "metadata": {},
   "outputs": [],
   "source": [
    "import numpy as np\n",
    "import pandas as pd\n",
    "from scipy.stats import norm\n",
    "import seaborn as sns\n",
    "import matplotlib.pyplot as plt"
   ]
  },
  {
   "cell_type": "markdown",
   "id": "572677c8",
   "metadata": {},
   "source": [
    "#### Loading CTR Data for AB Test"
   ]
  },
  {
   "cell_type": "code",
   "execution_count": null,
   "id": "84e257e6",
   "metadata": {},
   "outputs": [
    {
     "name": "stdout",
     "output_type": "stream",
     "text": [
      "   user_id  click group            timestamp\n",
      "0        1      1   exp  2024-01-01 00:00:00\n",
      "1        2      0   exp  2024-01-01 00:01:00\n",
      "2        3      1   exp  2024-01-01 00:02:00\n",
      "3        4      0   exp  2024-01-01 00:03:00\n",
      "4        5      1   exp  2024-01-01 00:04:00\n",
      "            user_id         click\n",
      "count  20000.000000  20000.000000\n",
      "mean   10000.500000      0.405250\n",
      "std     5773.647028      0.490953\n",
      "min        1.000000      0.000000\n",
      "25%     5000.750000      0.000000\n",
      "50%    10000.500000      0.000000\n",
      "75%    15000.250000      1.000000\n",
      "max    20000.000000      1.000000\n",
      "         user_id  click\n",
      "group                  \n",
      "con    150005000   1989\n",
      "exp     50005000   6116\n",
      "  group  click  count\n",
      "0   con      0   8011\n",
      "1   con      1   1989\n",
      "2   exp      0   3884\n",
      "3   exp      1   6116\n"
     ]
    }
   ],
   "source": [
    "# Load the dat form the csv file\n",
    "df_ab_test = pd.read_csv('ab_test_click_data.csv')\n",
    "\n",
    "# Display the first rows of the DataFrame to cofirm it's load correctyly\n",
    "print(df_ab_test.head())\n",
    "print(df_ab_test.describe())\n",
    "\n",
    "print(df_ab_test.groupby(\"group\")[[\"user_id\", \"click\"]].sum())\n",
    "print(df_ab_test.groupby(['group', 'click']).size().reset_index(name='count'))"
   ]
  },
  {
   "cell_type": "code",
   "execution_count": 39,
   "id": "4664ba2a",
   "metadata": {},
   "outputs": [
    {
     "data": {
      "image/png": "[encoded data removed]",
      "text/plain": [
       "<Figure size 1000x600 with 1 Axes>"
      ]
     },
     "metadata": {},
     "output_type": "display_data"
    }
   ],
   "source": [
    "# Custom palette for yellow and black\n",
    "palette = {0: \"yellow\", 1: \"black\"} # Assuming 0 is for no-click, 1 for click\n",
    "\n",
    "# Plotting the click distribution for each group with the custom colors\n",
    "plt.figure(figsize=(10, 6)) # width=10, height=6\n",
    "# Count rows in DataFrame\n",
    "# Group (con/exp) on x axis, count hue={0, 1} for (con/exp), use palette color\n",
    "ax = sns.countplot(x=\"group\", hue=\"click\", data=df_ab_test, palette=palette)\n",
    "plt.title(\"Click Distribution in Experimental and Control Groups\")\n",
    "plt.xlabel(\"Group\")\n",
    "plt.ylabel(\"Count\")\n",
    "# llabels=[\"No\", \"Yes\"] => [0, 1] in hue values\n",
    "plt.legend(title=\"Click\", labels=[\"No\", \"Yes\"])\n",
    "\n",
    "# calculate the percentages and annotate the bars (count NAN values # count())\n",
    "group_counts = df_ab_test.groupby(['group']).size()\n",
    "group_click_counts = df_ab_test.groupby(['group', 'click']).size().reset_index(name='count')\n",
    "\n",
    "for p in ax.patches:\n",
    "    # height = number of count\n",
    "    height = p.get_height()\n",
    "    # Find the group and click type for the current bar\n",
    "    group = 'exp' if p.get_x() < 0.5 else 'con'\n",
    "    click = 1 if p.get_x() % 1 > 0.5 else 0\n",
    "    total = group_counts.loc[group]\n",
    "    # total = total{con, exp}\n",
    "    percentage = 100 * height / total\n",
    "    # ax.text(x, y, s, ha, color, fontsize)\n",
    "    ax.text(\n",
    "        p.get_x() + p.get_width() / 2., \n",
    "        height + 20, \n",
    "        f'{percentage:.1f}%', \n",
    "        ha=\"center\", \n",
    "        color=\"black\", \n",
    "        fontsize=\"10\"\n",
    "        )\n",
    "\n",
    "plt.tight_layout()\n",
    "plt.show()"
   ]
  },
  {
   "cell_type": "markdown",
   "id": "ed3a1b01",
   "metadata": {},
   "source": [
    "#### Parameters of the Model from Power Analysis"
   ]
  },
  {
   "cell_type": "code",
   "execution_count": 40,
   "id": "4f7ea6c5",
   "metadata": {},
   "outputs": [
    {
     "name": "stdout",
     "output_type": "stream",
     "text": [
      "Alpha: significane level is:  0.05\n",
      "Delta: minimum detectable effect is:  0.1\n"
     ]
    }
   ],
   "source": [
    "# α: Bác bỏ giả thuyết vô hiệu (H₀) trong khi H₀ là đúng.\n",
    "# vd: nếu thuốc thật ra không hiệu quả, thì chúng ta vẫn có cơ hội\n",
    "# nói rằng nó có hiểu quả (kết luận sai).\n",
    "alpha = 0.05\n",
    "print(\"Alpha: significane level is: \", alpha)\n",
    "\n",
    "# thuốc mới có làm giảm huyết áp tốt hơn thuốc cũ hay không\n",
    "# thuốc cũ giảm huyết áp trung bình 10 mmHg\n",
    "# quan tâm thuốc mới giúp giảm nhiều hơn ít nhất 1 mmHg nữa\n",
    "delta = 0.1\n",
    "print(\"Delta: minimum detectable effect is: \", delta)"
   ]
  },
  {
   "cell_type": "markdown",
   "id": "bf363a00",
   "metadata": {},
   "source": [
    "#### Calculating Poolde Estimates for CLicks per Group"
   ]
  },
  {
   "cell_type": "code",
   "execution_count": 62,
   "id": "b8c6afc7",
   "metadata": {},
   "outputs": [
    {
     "name": "stdout",
     "output_type": "stream",
     "text": [
      "group\n",
      "con    1989\n",
      "exp    6116\n",
      "Name: click, dtype: int64\n",
      "Number of user in Control:  10000\n",
      "Number of users in Eperimental:  10000\n",
      "Number of clicks in control:  1989\n",
      "Number of clicks in experimental:  6116\n"
     ]
    }
   ],
   "source": [
    "#N_con = df_ab_test[df_ab_test[\"group\"] == \"con\"].shape[0]\n",
    "#N_exp = df_ab_test[df_ab_test[\"group\"] == \"exp\"].shape[0]\n",
    "\n",
    "N_con = (df_ab_test[\"group\"] == \"con\").sum()\n",
    "N_exp = (df_ab_test[\"group\"] == \"exp\").sum()\n",
    "\n",
    "# computing the total number of clicks per group by suming 1's \n",
    "# specific in group\n",
    "X_con = df_ab_test.groupby(\"group\")[\"click\"].sum().loc[\"con\"]\n",
    "X_exp = df_ab_test.groupby(\"group\")[\"click\"].sum().loc[\"exp\"]\n",
    "\n",
    "# printing this for visibility\n",
    "print(df_ab_test.groupby(\"group\")[\"click\"].sum())\n",
    "print(\"Number of user in Control: \", N_con)\n",
    "print(\"Number of users in Eperimental: \", N_exp)\n",
    "print(\"Number of clicks in control: \", X_con)\n",
    "print(\"Number of clicks in experimental: \", X_exp)"
   ]
  },
  {
   "cell_type": "markdown",
   "id": "c04bb31f",
   "metadata": {},
   "source": [
    "#### Calculating Pooled Estimates for CLicks per Group"
   ]
  },
  {
   "cell_type": "code",
   "execution_count": 56,
   "id": "c662bc66",
   "metadata": {},
   "outputs": [
    {
     "name": "stdout",
     "output_type": "stream",
     "text": [
      "Click Probability in Control Group: \n",
      " 0.1989\n",
      "Click Probability in Experimental Group: \n",
      " 0.6116\n",
      "Pooled Click Probability: \n",
      " 0.40525\n"
     ]
    }
   ],
   "source": [
    "# computing the estimate of click probabilty per group\n",
    "p_con_hat = X_con / N_con\n",
    "p_exp_hat = X_exp / N_exp\n",
    "print(\"Click Probability in Control Group: \\n\", p_con_hat)\n",
    "print(\"Click Probability in Experimental Group: \\n\", p_exp_hat)\n",
    "\n",
    "# computing the estimate of pooled clicked probability\n",
    "p_pooled_hat = (X_con + X_exp) / (N_con + N_exp)\n",
    "print(\"Pooled Click Probability: \\n\", p_pooled_hat)"
   ]
  },
  {
   "cell_type": "markdown",
   "id": "c67f3842",
   "metadata": {},
   "source": [
    "#### Calculating Pooled Variance"
   ]
  },
  {
   "cell_type": "code",
   "execution_count": 57,
   "id": "87031bfa",
   "metadata": {},
   "outputs": [
    {
     "name": "stdout",
     "output_type": "stream",
     "text": [
      "p^_pooled is: \n",
      " 0.40525\n",
      "pooled_variance is: \n",
      " 4.82044875e-05\n"
     ]
    }
   ],
   "source": [
    "# computing the estimate of pooled variance\n",
    "pooled_variance = p_pooled_hat * (1-p_pooled_hat) * (1/N_con + 1/N_exp)\n",
    "print(\"p^_pooled is: \\n\", p_pooled_hat)\n",
    "print(\"pooled_variance is: \\n\", pooled_variance)"
   ]
  },
  {
   "cell_type": "markdown",
   "id": "f1deea39",
   "metadata": {},
   "source": [
    "#### Calculating Standard Error and Test Statistics"
   ]
  },
  {
   "cell_type": "code",
   "execution_count": 58,
   "id": "bfba7a3c",
   "metadata": {},
   "outputs": [
    {
     "name": "stdout",
     "output_type": "stream",
     "text": [
      "Standard Error is: \n",
      " 0.006942945160376826\n",
      "Test Statistics for 2-sample Z-test is: \n",
      " -59.44163326469381\n",
      "X-critical value from standard Normal distribution:  1.959963984540054\n"
     ]
    }
   ],
   "source": [
    "# computing the standard error of the test\n",
    "SE = np.sqrt(pooled_variance)\n",
    "print(\"Standard Error is: \\n\", SE)\n",
    "\n",
    "# computing the test statistics of Z-test\n",
    "Test_stat = (p_con_hat - p_exp_hat) / SE\n",
    "print(\"Test Statistics for 2-sample Z-test is: \\n\", Test_stat)\n",
    "\n",
    "# critical value of the Z-test\n",
    "Z_crit = norm.ppf(1-alpha/2)\n",
    "print(\"X-critical value from standard Normal distribution: \", Z_crit)"
   ]
  },
  {
   "cell_type": "markdown",
   "id": "39cf9504",
   "metadata": {},
   "source": [
    "#### Calculating p_values of the Z-test\n",
    "- A blow p-value (p <= 0.05 at 5% significnce level) indicates strong evidence against the null hypothesis, so we reject the null hypothesis\n",
    "- A high p-value (p > 0.05) indicates weak evidence against the null hypothesis, so we fail to reject the null hypothesis"
   ]
  },
  {
   "cell_type": "code",
   "execution_count": 59,
   "id": "fc9f10ae",
   "metadata": {},
   "outputs": [
    {
     "name": "stdout",
     "output_type": "stream",
     "text": [
      "P-value of the 2-sample Z-test: 0.0\n",
      "There is statistical significance\n"
     ]
    }
   ],
   "source": [
    "# calculating p value\n",
    "p_value = 2 * norm.sf(abs(Test_stat))\n",
    "\n",
    "# function checking the statistical significane\n",
    "def is_statistical_significance(p_value, alpha):\n",
    "    \"\"\"\n",
    "    We assets whether there is statistical significane based on the p-value and alpha.\n",
    "\n",
    "    Arguments:\n",
    "    - p_value (float): the p-value resulting from a statistical test\n",
    "    - alpha (float, optional): the significance level threshold used to determine statistical \n",
    "    significance. Default to 0.05\n",
    "\n",
    "    Return:\n",
    "    - Prints the assessment of statistical significance\n",
    "\n",
    "    \"\"\"\n",
    "    print(f\"P-value of the 2-sample Z-test: {(p_value)}\")\n",
    "\n",
    "    # determine statistical significance\n",
    "    if p_value <= alpha:\n",
    "        print(\"There is statistical significance\")\n",
    "    else:\n",
    "        print(\"There is no statistical significance\")\n",
    "\n",
    "is_statistical_significance(p_value, alpha)"
   ]
  }
 ],
 "metadata": {
  "kernelspec": {
   "display_name": "Python 3",
   "language": "python",
   "name": "python3"
  },
  "language_info": {
   "codemirror_mode": {
    "name": "ipython",
    "version": 3
   },
   "file_extension": ".py",
   "mimetype": "text/x-python",
   "name": "python",
   "nbconvert_exporter": "python",
   "pygments_lexer": "ipython3",
   "version": "3.13.5"
  }
 },
 "nbformat": 4,
 "nbformat_minor": 5
}
